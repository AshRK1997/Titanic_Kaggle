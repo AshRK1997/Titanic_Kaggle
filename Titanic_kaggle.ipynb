{
  "nbformat": 4,
  "nbformat_minor": 0,
  "metadata": {
    "colab": {
      "name": "Titanic_kaggle",
      "provenance": [],
      "collapsed_sections": [],
      "authorship_tag": "ABX9TyPEbkztQv/0kjhEHEY/8U41",
      "include_colab_link": true
    },
    "kernelspec": {
      "name": "python3",
      "display_name": "Python 3"
    }
  },
  "cells": [
    {
      "cell_type": "markdown",
      "metadata": {
        "id": "view-in-github",
        "colab_type": "text"
      },
      "source": [
        "<a href=\"https://colab.research.google.com/github/AshRK1997/Titanic_Kaggle/blob/master/Titanic_kaggle.ipynb\" target=\"_parent\"><img src=\"https://colab.research.google.com/assets/colab-badge.svg\" alt=\"Open In Colab\"/></a>"
      ]
    },
    {
      "cell_type": "code",
      "metadata": {
        "id": "JxGK-iULoKGi",
        "colab_type": "code",
        "colab": {
          "base_uri": "https://localhost:8080/",
          "height": 86
        },
        "outputId": "a544a6d9-8369-41f1-c107-f43add11d31c"
      },
      "source": [
        "!unzip titanic.zip"
      ],
      "execution_count": null,
      "outputs": [
        {
          "output_type": "stream",
          "text": [
            "Archive:  titanic.zip\n",
            "  inflating: gender_submission.csv   \n",
            "  inflating: test.csv                \n",
            "  inflating: train.csv               \n"
          ],
          "name": "stdout"
        }
      ]
    },
    {
      "cell_type": "code",
      "metadata": {
        "id": "cqkU0wtDnaCE",
        "colab_type": "code",
        "colab": {}
      },
      "source": [
        "\n",
        "import pandas as pd\n",
        "import numpy as np\n",
        "\n",
        "data_train = pd.read_csv('train.csv')\n",
        "data_test = pd.read_csv('test.csv')\n",
        "\n",
        "y = data_train['Survived'].values\n",
        "y = y.reshape(len(y),1)"
      ],
      "execution_count": null,
      "outputs": []
    },
    {
      "cell_type": "code",
      "metadata": {
        "id": "qQDNOw2BskTQ",
        "colab_type": "code",
        "colab": {
          "base_uri": "https://localhost:8080/",
          "height": 382
        },
        "outputId": "263ae483-875c-435e-e688-d5105312520e"
      },
      "source": [
        "x = data_train\n",
        "\n",
        "x.drop('Survived',axis=1,inplace=True)\n",
        "x.drop('Name',axis=1,inplace=True)\n",
        "x.drop('Ticket',axis=1,inplace=True)\n",
        "x.drop('PassengerId',axis=1,inplace=True)\n",
        "x.drop('Cabin',axis=1,inplace=True)\n",
        "\n",
        "x.replace(r'^\\s*$', np.NaN, regex=True, inplace=True)\n",
        "x.replace(\"\", np.NaN, inplace=True)\n",
        "\n",
        "print(x.head(20))"
      ],
      "execution_count": null,
      "outputs": [
        {
          "output_type": "stream",
          "text": [
            "    Pclass     Sex   Age  SibSp  Parch     Fare Embarked\n",
            "0        3    male  22.0      1      0   7.2500        S\n",
            "1        1  female  38.0      1      0  71.2833        C\n",
            "2        3  female  26.0      0      0   7.9250        S\n",
            "3        1  female  35.0      1      0  53.1000        S\n",
            "4        3    male  35.0      0      0   8.0500        S\n",
            "5        3    male   NaN      0      0   8.4583        Q\n",
            "6        1    male  54.0      0      0  51.8625        S\n",
            "7        3    male   2.0      3      1  21.0750        S\n",
            "8        3  female  27.0      0      2  11.1333        S\n",
            "9        2  female  14.0      1      0  30.0708        C\n",
            "10       3  female   4.0      1      1  16.7000        S\n",
            "11       1  female  58.0      0      0  26.5500        S\n",
            "12       3    male  20.0      0      0   8.0500        S\n",
            "13       3    male  39.0      1      5  31.2750        S\n",
            "14       3  female  14.0      0      0   7.8542        S\n",
            "15       2  female  55.0      0      0  16.0000        S\n",
            "16       3    male   2.0      4      1  29.1250        Q\n",
            "17       2    male   NaN      0      0  13.0000        S\n",
            "18       3  female  31.0      1      0  18.0000        S\n",
            "19       3  female   NaN      0      0   7.2250        C\n"
          ],
          "name": "stdout"
        }
      ]
    },
    {
      "cell_type": "code",
      "metadata": {
        "id": "FSi5hncKvEti",
        "colab_type": "code",
        "colab": {}
      },
      "source": [
        "x_test_final = data_test\n",
        "\n",
        "x_test_final.drop('Name',axis=1,inplace=True)\n",
        "x_test_final.drop('Ticket',axis=1,inplace=True)\n",
        "x_test_final.drop('PassengerId',axis=1,inplace=True)\n",
        "x_test_final.drop('Cabin',axis=1,inplace=True)\n",
        "\n",
        "x_test_final.replace(r'^\\s*$', np.NaN, regex=True, inplace=True)\n",
        "x_test_final.replace(\"\", np.NaN, inplace=True)"
      ],
      "execution_count": null,
      "outputs": []
    },
    {
      "cell_type": "code",
      "metadata": {
        "id": "XHmUAcuC9uH1",
        "colab_type": "code",
        "colab": {}
      },
      "source": [
        "x_test_final['Embarked'].replace(np.nan, \"None\", inplace=True)\n",
        "x['Embarked'].replace(np.NaN, \"None\", inplace=True)"
      ],
      "execution_count": null,
      "outputs": []
    },
    {
      "cell_type": "code",
      "metadata": {
        "id": "AOWTYOcnXP2z",
        "colab_type": "code",
        "colab": {}
      },
      "source": [
        "from sklearn.preprocessing import OneHotEncoder\n",
        "\n",
        "encode_embark = OneHotEncoder(categories='auto')\n",
        "enc_embark = pd.DataFrame(encode_embark.fit_transform(x['Embarked'].values.reshape(-1,1)).toarray())\n",
        "\n",
        "x.drop('Embarked',axis=1,inplace=True)\n",
        "x = pd.concat([x,enc_embark],axis=1)\n",
        "\n",
        "enc_embark = pd.DataFrame(encode_embark.transform(x_test_final['Embarked'].values.reshape(-1,1)).toarray())\n",
        "\n",
        "x_test_final.drop('Embarked',axis=1,inplace=True)\n",
        "x_test_final = pd.concat([x_test_final,enc_embark],axis=1)"
      ],
      "execution_count": null,
      "outputs": []
    },
    {
      "cell_type": "code",
      "metadata": {
        "id": "9d9NOlTHk_23",
        "colab_type": "code",
        "colab": {
          "base_uri": "https://localhost:8080/",
          "height": 486
        },
        "outputId": "bd6f0318-bdf2-4629-cff1-816e2a858b4c"
      },
      "source": [
        "from sklearn.preprocessing import LabelEncoder\n",
        "le = LabelEncoder()\n",
        "\n",
        "x['Sex'] = le.fit_transform(x['Sex'])\n",
        "x_test_final['Sex'] = le.transform(x_test_final['Sex'])\n",
        "\n",
        "print(x,x_test_final)"
      ],
      "execution_count": null,
      "outputs": [
        {
          "output_type": "stream",
          "text": [
            "     Pclass  Sex   Age  SibSp  Parch     Fare    0    1    2    3\n",
            "0         3    1  22.0      1      0   7.2500  0.0  0.0  0.0  1.0\n",
            "1         1    0  38.0      1      0  71.2833  1.0  0.0  0.0  0.0\n",
            "2         3    0  26.0      0      0   7.9250  0.0  0.0  0.0  1.0\n",
            "3         1    0  35.0      1      0  53.1000  0.0  0.0  0.0  1.0\n",
            "4         3    1  35.0      0      0   8.0500  0.0  0.0  0.0  1.0\n",
            "..      ...  ...   ...    ...    ...      ...  ...  ...  ...  ...\n",
            "886       2    1  27.0      0      0  13.0000  0.0  0.0  0.0  1.0\n",
            "887       1    0  19.0      0      0  30.0000  0.0  0.0  0.0  1.0\n",
            "888       3    0   NaN      1      2  23.4500  0.0  0.0  0.0  1.0\n",
            "889       1    1  26.0      0      0  30.0000  1.0  0.0  0.0  0.0\n",
            "890       3    1  32.0      0      0   7.7500  0.0  0.0  1.0  0.0\n",
            "\n",
            "[891 rows x 10 columns]      Pclass  Sex   Age  SibSp  Parch      Fare    0    1    2    3\n",
            "0         3    1  34.5      0      0    7.8292  0.0  0.0  1.0  0.0\n",
            "1         3    0  47.0      1      0    7.0000  0.0  0.0  0.0  1.0\n",
            "2         2    1  62.0      0      0    9.6875  0.0  0.0  1.0  0.0\n",
            "3         3    1  27.0      0      0    8.6625  0.0  0.0  0.0  1.0\n",
            "4         3    0  22.0      1      1   12.2875  0.0  0.0  0.0  1.0\n",
            "..      ...  ...   ...    ...    ...       ...  ...  ...  ...  ...\n",
            "413       3    1   NaN      0      0    8.0500  0.0  0.0  0.0  1.0\n",
            "414       1    0  39.0      0      0  108.9000  1.0  0.0  0.0  0.0\n",
            "415       3    1  38.5      0      0    7.2500  0.0  0.0  0.0  1.0\n",
            "416       3    1   NaN      0      0    8.0500  0.0  0.0  0.0  1.0\n",
            "417       3    1   NaN      1      1   22.3583  1.0  0.0  0.0  0.0\n",
            "\n",
            "[418 rows x 10 columns]\n"
          ],
          "name": "stdout"
        }
      ]
    },
    {
      "cell_type": "code",
      "metadata": {
        "id": "fwzGNS1_1llf",
        "colab_type": "code",
        "colab": {
          "base_uri": "https://localhost:8080/",
          "height": 243
        },
        "outputId": "f6075f85-dfef-47d5-cdf8-120526ce705f"
      },
      "source": [
        "from sklearn.impute import SimpleImputer\n",
        "\n",
        "x = np.array(x)\n",
        "x_test_final = np.array(x_test_final)\n",
        "\n",
        "imputer = SimpleImputer(missing_values=np.nan, strategy='most_frequent')\n",
        "\n",
        "imputer.fit(x[:, 2:3])\n",
        "\n",
        "x[:, 2:3] = imputer.transform(x[:, 2:3])\n",
        "x_test_final[:, 2:3] = imputer.transform(x_test_final[:, 2:3])\n",
        "\n",
        "impute = SimpleImputer(missing_values=np.nan, strategy='mean')\n",
        "impute.fit(x[:,5:6])\n",
        "x_test_final[:, 5:6] = imputer.transform(x_test_final[:, 5:6])\n",
        "\n",
        "print(x,x_test_final)"
      ],
      "execution_count": null,
      "outputs": [
        {
          "output_type": "stream",
          "text": [
            "[[ 3.  1. 22. ...  0.  0.  1.]\n",
            " [ 1.  0. 38. ...  0.  0.  0.]\n",
            " [ 3.  0. 26. ...  0.  0.  1.]\n",
            " ...\n",
            " [ 3.  0. 24. ...  0.  0.  1.]\n",
            " [ 1.  1. 26. ...  0.  0.  0.]\n",
            " [ 3.  1. 32. ...  0.  1.  0.]] [[ 3.   1.  34.5 ...  0.   1.   0. ]\n",
            " [ 3.   0.  47.  ...  0.   0.   1. ]\n",
            " [ 2.   1.  62.  ...  0.   1.   0. ]\n",
            " ...\n",
            " [ 3.   1.  38.5 ...  0.   0.   1. ]\n",
            " [ 3.   1.  24.  ...  0.   0.   1. ]\n",
            " [ 3.   1.  24.  ...  0.   0.   0. ]]\n"
          ],
          "name": "stdout"
        }
      ]
    },
    {
      "cell_type": "code",
      "metadata": {
        "id": "M0T0Rq_7pwQj",
        "colab_type": "code",
        "colab": {}
      },
      "source": [
        "x = pd.DataFrame(x)\n",
        "x_test_final = pd.DataFrame(x_test_final)"
      ],
      "execution_count": null,
      "outputs": []
    },
    {
      "cell_type": "code",
      "metadata": {
        "id": "XusJK4yX0ce4",
        "colab_type": "code",
        "colab": {}
      },
      "source": [
        "from sklearn.model_selection import train_test_split\n",
        "x_train,x_test,y_train,y_test = train_test_split(x,y,test_size=0.1)"
      ],
      "execution_count": null,
      "outputs": []
    },
    {
      "cell_type": "code",
      "metadata": {
        "id": "gxw9w-_VUXt5",
        "colab_type": "code",
        "colab": {}
      },
      "source": [
        "from sklearn.preprocessing import StandardScaler\n",
        "sc = StandardScaler()\n",
        "x_train_scaled = sc.fit_transform(x_train)\n",
        "x_test_scaled = sc.transform(x_test)"
      ],
      "execution_count": null,
      "outputs": []
    },
    {
      "cell_type": "code",
      "metadata": {
        "id": "h9hEj3ITuRic",
        "colab_type": "code",
        "colab": {
          "base_uri": "https://localhost:8080/",
          "height": 34
        },
        "outputId": "85663365-6c15-43b6-a444-e0f126b65bab"
      },
      "source": [
        "x_test_scaled.shape"
      ],
      "execution_count": null,
      "outputs": [
        {
          "output_type": "execute_result",
          "data": {
            "text/plain": [
              "(90, 10)"
            ]
          },
          "metadata": {
            "tags": []
          },
          "execution_count": 90
        }
      ]
    },
    {
      "cell_type": "code",
      "metadata": {
        "id": "Jmn6NkfksDvn",
        "colab_type": "code",
        "colab": {
          "base_uri": "https://localhost:8080/",
          "height": 34
        },
        "outputId": "62ffa55b-65cb-4923-b653-7a32e54f8266"
      },
      "source": [
        "from sklearn.decomposition import PCA\n",
        "pca = PCA(n_components=8)\n",
        "principalComponents_train = pca.fit_transform(x_train_scaled)\n",
        "principalComponents_test = pca.transform(x_test_scaled)\n",
        "x_train_pca = pd.DataFrame(data = principalComponents_train)\n",
        "#             , columns = ['principal component 1', 'principal component 2'])\n",
        "x_test_pca = pd.DataFrame(data = principalComponents_test)\n",
        "#             , columns = ['principal component 1', 'principal component 2'])\n",
        "\n",
        "print(sum(pca.explained_variance_ratio_))"
      ],
      "execution_count": null,
      "outputs": [
        {
          "output_type": "stream",
          "text": [
            "0.964246400694233\n"
          ],
          "name": "stdout"
        }
      ]
    },
    {
      "cell_type": "code",
      "metadata": {
        "id": "cjm3hkEFrONM",
        "colab_type": "code",
        "colab": {
          "base_uri": "https://localhost:8080/",
          "height": 89
        },
        "outputId": "34464a40-1d9a-4e07-d6d6-e1c358bfcec9"
      },
      "source": [
        "from sklearn.ensemble import GradientBoostingClassifier\n",
        "\n",
        "check_grad = GradientBoostingClassifier(learning_rate=0.05,n_estimators=80)\n",
        "check_grad.fit(x_train_scaled,y_train)\n",
        "print(check_grad.score(x_test_scaled,y_test))"
      ],
      "execution_count": null,
      "outputs": [
        {
          "output_type": "stream",
          "text": [
            "0.8333333333333334\n"
          ],
          "name": "stdout"
        },
        {
          "output_type": "stream",
          "text": [
            "/usr/local/lib/python3.6/dist-packages/sklearn/ensemble/_gb.py:1454: DataConversionWarning: A column-vector y was passed when a 1d array was expected. Please change the shape of y to (n_samples, ), for example using ravel().\n",
            "  y = column_or_1d(y, warn=True)\n"
          ],
          "name": "stderr"
        }
      ]
    },
    {
      "cell_type": "code",
      "metadata": {
        "id": "-jlmvUei0dwB",
        "colab_type": "code",
        "colab": {
          "base_uri": "https://localhost:8080/",
          "height": 193
        },
        "outputId": "88f83395-b390-40f5-d2a4-ea7676c8e6f7"
      },
      "source": [
        "from sklearn.neural_network import MLPClassifier\n",
        "\n",
        "check_mlp = MLPClassifier(solver='lbfgs', hidden_layer_sizes=(8), random_state=0,max_iter=700)\n",
        "check_mlp.fit(x_train_scaled,y_train)\n",
        "print(check_mlp.score(x_test_scaled,y_test))"
      ],
      "execution_count": null,
      "outputs": [
        {
          "output_type": "stream",
          "text": [
            "/usr/local/lib/python3.6/dist-packages/sklearn/neural_network/_multilayer_perceptron.py:934: DataConversionWarning: A column-vector y was passed when a 1d array was expected. Please change the shape of y to (n_samples, ), for example using ravel().\n",
            "  y = column_or_1d(y, warn=True)\n"
          ],
          "name": "stderr"
        },
        {
          "output_type": "stream",
          "text": [
            "0.8333333333333334\n"
          ],
          "name": "stdout"
        },
        {
          "output_type": "stream",
          "text": [
            "/usr/local/lib/python3.6/dist-packages/sklearn/neural_network/_multilayer_perceptron.py:470: ConvergenceWarning: lbfgs failed to converge (status=1):\n",
            "STOP: TOTAL NO. of ITERATIONS REACHED LIMIT.\n",
            "\n",
            "Increase the number of iterations (max_iter) or scale the data as shown in:\n",
            "    https://scikit-learn.org/stable/modules/preprocessing.html\n",
            "  self.n_iter_ = _check_optimize_result(\"lbfgs\", opt_res, self.max_iter)\n"
          ],
          "name": "stderr"
        }
      ]
    },
    {
      "cell_type": "code",
      "metadata": {
        "id": "9TaaxnZTxL_V",
        "colab_type": "code",
        "colab": {
          "base_uri": "https://localhost:8080/",
          "height": 89
        },
        "outputId": "f8157f2d-396a-428a-8a1b-156ee523abdc"
      },
      "source": [
        "from sklearn.neural_network import MLPClassifier\n",
        "\n",
        "check_mlp = MLPClassifier(solver='lbfgs', hidden_layer_sizes=(8), random_state=0,max_iter=1000)\n",
        "check_mlp.fit(x_train_pca,y_train)\n",
        "print(check_mlp.score(x_test_pca,y_test))"
      ],
      "execution_count": null,
      "outputs": [
        {
          "output_type": "stream",
          "text": [
            "/usr/local/lib/python3.6/dist-packages/sklearn/neural_network/_multilayer_perceptron.py:934: DataConversionWarning: A column-vector y was passed when a 1d array was expected. Please change the shape of y to (n_samples, ), for example using ravel().\n",
            "  y = column_or_1d(y, warn=True)\n"
          ],
          "name": "stderr"
        },
        {
          "output_type": "stream",
          "text": [
            "0.8333333333333334\n"
          ],
          "name": "stdout"
        }
      ]
    },
    {
      "cell_type": "code",
      "metadata": {
        "id": "JWrTvfQwaijJ",
        "colab_type": "code",
        "colab": {
          "base_uri": "https://localhost:8080/",
          "height": 124
        },
        "outputId": "07a8d8f3-6e55-487a-e3da-4acb957640b3"
      },
      "source": [
        "from xgboost import XGBClassifier\n",
        "\n",
        "check_xgb = XGBClassifier(learning_rate=0.1)\n",
        "check_xgb.fit(x_train_scaled,y_train)\n",
        "print(check_xgb.score(x_test_scaled,y_test))"
      ],
      "execution_count": null,
      "outputs": [
        {
          "output_type": "stream",
          "text": [
            "0.8222222222222222\n"
          ],
          "name": "stdout"
        },
        {
          "output_type": "stream",
          "text": [
            "/usr/local/lib/python3.6/dist-packages/sklearn/preprocessing/_label.py:235: DataConversionWarning: A column-vector y was passed when a 1d array was expected. Please change the shape of y to (n_samples, ), for example using ravel().\n",
            "  y = column_or_1d(y, warn=True)\n",
            "/usr/local/lib/python3.6/dist-packages/sklearn/preprocessing/_label.py:268: DataConversionWarning: A column-vector y was passed when a 1d array was expected. Please change the shape of y to (n_samples, ), for example using ravel().\n",
            "  y = column_or_1d(y, warn=True)\n"
          ],
          "name": "stderr"
        }
      ]
    },
    {
      "cell_type": "code",
      "metadata": {
        "id": "s8vHXUmbaqgp",
        "colab_type": "code",
        "colab": {
          "base_uri": "https://localhost:8080/",
          "height": 89
        },
        "outputId": "c8f373e0-8a24-4223-eca4-9365a61a58cc"
      },
      "source": [
        "from sklearn.linear_model import LogisticRegression\n",
        "\n",
        "check_log = LogisticRegression(max_iter=1000, C=0.01)\n",
        "check_log.fit(x_train_scaled, y_train)\n",
        "print(check_log.score(x_test_scaled,y_test))"
      ],
      "execution_count": null,
      "outputs": [
        {
          "output_type": "stream",
          "text": [
            "0.8222222222222222\n"
          ],
          "name": "stdout"
        },
        {
          "output_type": "stream",
          "text": [
            "/usr/local/lib/python3.6/dist-packages/sklearn/utils/validation.py:760: DataConversionWarning: A column-vector y was passed when a 1d array was expected. Please change the shape of y to (n_samples, ), for example using ravel().\n",
            "  y = column_or_1d(y, warn=True)\n"
          ],
          "name": "stderr"
        }
      ]
    },
    {
      "cell_type": "code",
      "metadata": {
        "id": "nAR2kNuyJTot",
        "colab_type": "code",
        "colab": {
          "base_uri": "https://localhost:8080/",
          "height": 89
        },
        "outputId": "f050a12f-8ab0-4eb9-cf5d-4e76714638bf"
      },
      "source": [
        "from sklearn.svm import SVC\n",
        "\n",
        "check_svm = SVC(kernel = 'rbf')\n",
        "check_svm.fit(x_train_scaled, y_train)\n",
        "print(check_svm.score(x_test_scaled,y_test))"
      ],
      "execution_count": null,
      "outputs": [
        {
          "output_type": "stream",
          "text": [
            "0.8666666666666667\n"
          ],
          "name": "stdout"
        },
        {
          "output_type": "stream",
          "text": [
            "/usr/local/lib/python3.6/dist-packages/sklearn/utils/validation.py:760: DataConversionWarning: A column-vector y was passed when a 1d array was expected. Please change the shape of y to (n_samples, ), for example using ravel().\n",
            "  y = column_or_1d(y, warn=True)\n"
          ],
          "name": "stderr"
        }
      ]
    },
    {
      "cell_type": "code",
      "metadata": {
        "id": "lMfHDHmAyueO",
        "colab_type": "code",
        "colab": {
          "base_uri": "https://localhost:8080/",
          "height": 89
        },
        "outputId": "9a175363-06c2-4ff6-8f1e-8e5268c5b0b8"
      },
      "source": [
        "from sklearn.svm import SVC\n",
        "\n",
        "check_svm = SVC(kernel = 'rbf')\n",
        "check_svm.fit(x_train_pca, y_train)\n",
        "print(check_svm.score(x_test_pca,y_test))"
      ],
      "execution_count": null,
      "outputs": [
        {
          "output_type": "stream",
          "text": [
            "0.8777777777777778\n"
          ],
          "name": "stdout"
        },
        {
          "output_type": "stream",
          "text": [
            "/usr/local/lib/python3.6/dist-packages/sklearn/utils/validation.py:760: DataConversionWarning: A column-vector y was passed when a 1d array was expected. Please change the shape of y to (n_samples, ), for example using ravel().\n",
            "  y = column_or_1d(y, warn=True)\n"
          ],
          "name": "stderr"
        }
      ]
    },
    {
      "cell_type": "code",
      "metadata": {
        "id": "IIn1u5wBLjS5",
        "colab_type": "code",
        "colab": {}
      },
      "source": [
        "from sklearn.preprocessing import StandardScaler\n",
        "sc_1 = StandardScaler()\n",
        "x_scaled = sc_1.fit_transform(x)\n",
        "x_test_final_scaled = sc_1.transform(x_test_final)"
      ],
      "execution_count": null,
      "outputs": []
    },
    {
      "cell_type": "code",
      "metadata": {
        "id": "IgRm1WwS2dHL",
        "colab_type": "code",
        "colab": {
          "base_uri": "https://localhost:8080/",
          "height": 34
        },
        "outputId": "5ef29bfa-8307-4160-c50d-f69794370283"
      },
      "source": [
        "from sklearn.decomposition import PCA\n",
        "pca_1 = PCA(n_components=8)\n",
        "principalComponents_train = pca_1.fit_transform(x_scaled)\n",
        "principalComponents_test = pca_1.transform(x_test_final_scaled)\n",
        "x_train_pca = pd.DataFrame(data = principalComponents_train)\n",
        "#             , columns = ['principal component 1', 'principal component 2'])\n",
        "x_test_pca = pd.DataFrame(data = principalComponents_test)\n",
        "#             , columns = ['principal component 1', 'principal component 2'])\n",
        "\n",
        "print(sum(pca.explained_variance_ratio_))"
      ],
      "execution_count": null,
      "outputs": [
        {
          "output_type": "stream",
          "text": [
            "0.964246400694233\n"
          ],
          "name": "stdout"
        }
      ]
    },
    {
      "cell_type": "code",
      "metadata": {
        "id": "4QbTWE7sMQch",
        "colab_type": "code",
        "colab": {
          "base_uri": "https://localhost:8080/",
          "height": 72
        },
        "outputId": "c0f764e7-403e-469d-9456-5abb4f273b13"
      },
      "source": [
        "model_svc = SVC(kernel = 'rbf')\n",
        "model_svc.fit(x_train_pca,y)\n",
        "ans = model_svc.predict(x_test_pca)"
      ],
      "execution_count": null,
      "outputs": [
        {
          "output_type": "stream",
          "text": [
            "/usr/local/lib/python3.6/dist-packages/sklearn/utils/validation.py:760: DataConversionWarning: A column-vector y was passed when a 1d array was expected. Please change the shape of y to (n_samples, ), for example using ravel().\n",
            "  y = column_or_1d(y, warn=True)\n"
          ],
          "name": "stderr"
        }
      ]
    },
    {
      "cell_type": "code",
      "metadata": {
        "id": "71YFEStosWQT",
        "colab_type": "code",
        "colab": {
          "base_uri": "https://localhost:8080/",
          "height": 74
        },
        "outputId": "c8d4f9d7-6914-4f63-f728-fa40c318248f"
      },
      "source": [
        "model = GradientBoostingClassifier(learning_rate=0.05,n_estimators=100)\n",
        "model.fit(x_scaled,y)\n",
        "ans = model.predict(x_test_final_scaled)"
      ],
      "execution_count": null,
      "outputs": [
        {
          "output_type": "stream",
          "text": [
            "/usr/local/lib/python3.6/dist-packages/sklearn/ensemble/_gb.py:1454: DataConversionWarning: A column-vector y was passed when a 1d array was expected. Please change the shape of y to (n_samples, ), for example using ravel().\n",
            "  y = column_or_1d(y, warn=True)\n"
          ],
          "name": "stderr"
        }
      ]
    },
    {
      "cell_type": "code",
      "metadata": {
        "id": "8b34ZQzlY7x3",
        "colab_type": "code",
        "colab": {
          "base_uri": "https://localhost:8080/",
          "height": 110
        },
        "outputId": "93d578f7-45a3-4be2-e6b8-6147fe96960d"
      },
      "source": [
        "model_xgb = XGBClassifier(learning_rate=0.0005)\n",
        "model_xgb.fit(x,y)\n",
        "ans = model_xgb.predict(x_test_final)"
      ],
      "execution_count": null,
      "outputs": [
        {
          "output_type": "stream",
          "text": [
            "/usr/local/lib/python3.6/dist-packages/sklearn/preprocessing/_label.py:235: DataConversionWarning: A column-vector y was passed when a 1d array was expected. Please change the shape of y to (n_samples, ), for example using ravel().\n",
            "  y = column_or_1d(y, warn=True)\n",
            "/usr/local/lib/python3.6/dist-packages/sklearn/preprocessing/_label.py:268: DataConversionWarning: A column-vector y was passed when a 1d array was expected. Please change the shape of y to (n_samples, ), for example using ravel().\n",
            "  y = column_or_1d(y, warn=True)\n"
          ],
          "name": "stderr"
        }
      ]
    },
    {
      "cell_type": "code",
      "metadata": {
        "id": "1dxEyqBhv75K",
        "colab_type": "code",
        "colab": {
          "base_uri": "https://localhost:8080/",
          "height": 260
        },
        "outputId": "48ddaea0-9be3-4b3a-812b-aefef7348999"
      },
      "source": [
        "ans = pd.DataFrame(ans)\n",
        "print(ans)"
      ],
      "execution_count": null,
      "outputs": [
        {
          "output_type": "stream",
          "text": [
            "     0\n",
            "0    0\n",
            "1    1\n",
            "2    0\n",
            "3    0\n",
            "4    1\n",
            "..  ..\n",
            "413  0\n",
            "414  1\n",
            "415  0\n",
            "416  0\n",
            "417  0\n",
            "\n",
            "[418 rows x 1 columns]\n"
          ],
          "name": "stdout"
        }
      ]
    },
    {
      "cell_type": "code",
      "metadata": {
        "id": "9mLeYUvAwIzs",
        "colab_type": "code",
        "colab": {}
      },
      "source": [
        "data_test_1 = pd.read_csv('test.csv')"
      ],
      "execution_count": null,
      "outputs": []
    },
    {
      "cell_type": "code",
      "metadata": {
        "id": "nwwnGYzuxsJd",
        "colab_type": "code",
        "colab": {
          "base_uri": "https://localhost:8080/",
          "height": 260
        },
        "outputId": "86c0b3af-e380-4a67-a133-cc2b9c1e9dda"
      },
      "source": [
        "submission_df = pd.concat([data_test_1['PassengerId'],ans],axis=1,ignore_index=False)\n",
        "print(submission_df)"
      ],
      "execution_count": null,
      "outputs": [
        {
          "output_type": "stream",
          "text": [
            "     PassengerId  0\n",
            "0            892  0\n",
            "1            893  1\n",
            "2            894  0\n",
            "3            895  0\n",
            "4            896  1\n",
            "..           ... ..\n",
            "413         1305  0\n",
            "414         1306  1\n",
            "415         1307  0\n",
            "416         1308  0\n",
            "417         1309  0\n",
            "\n",
            "[418 rows x 2 columns]\n"
          ],
          "name": "stdout"
        }
      ]
    },
    {
      "cell_type": "code",
      "metadata": {
        "id": "lcMKdIxKx-Px",
        "colab_type": "code",
        "colab": {}
      },
      "source": [
        "submission_df.to_csv('submit.csv')"
      ],
      "execution_count": null,
      "outputs": []
    }
  ]
}